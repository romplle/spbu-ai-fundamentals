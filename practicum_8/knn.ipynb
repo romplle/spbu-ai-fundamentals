{
 "cells": [
  {
   "cell_type": "markdown",
   "metadata": {
    "id": "SoWTnBQpuc6s"
   },
   "source": [
    "# Метод k-ближайших соседей"
   ]
  },
  {
   "cell_type": "markdown",
   "metadata": {},
   "source": [
    "#### Настройка среды\n",
    "\n",
    "- Создаем изолированное окружение: `python -m venv venv`\n",
    "- Активируем: (unix) `. venv/bin/activate` или (win) `. venv/Scripts/activate`\n",
    "- Устанавливаем зависимости: `pip install -r practicum_8/requirements.txt`"
   ]
  },
  {
   "cell_type": "code",
   "execution_count": 1,
   "metadata": {
    "executionInfo": {
     "elapsed": 1316,
     "status": "ok",
     "timestamp": 1680806803375,
     "user": {
      "displayName": "Анастасия Никольская",
      "userId": "05163973069761496365"
     },
     "user_tz": -180
    },
    "id": "6B-GvTsIuc6v"
   },
   "outputs": [],
   "source": [
    "import random\n",
    "import warnings\n",
    "\n",
    "import category_encoders as ce\n",
    "import matplotlib.pyplot as plt\n",
    "import numpy as np\n",
    "import pandas as pd\n",
    "import yaml\n",
    "\n",
    "from sklearn.model_selection import train_test_split\n",
    "from sklearn.preprocessing import LabelEncoder\n",
    "\n",
    "TEST_SPLIT = 0.2\n",
    "SEED = 42\n",
    "\n",
    "random.seed(SEED)\n",
    "np.random.seed(SEED)"
   ]
  },
  {
   "cell_type": "markdown",
   "metadata": {},
   "source": [
    "## Реализуем простейшую версию kNN для задач классификации"
   ]
  },
  {
   "cell_type": "code",
   "execution_count": 2,
   "metadata": {},
   "outputs": [],
   "source": [
    "class KNNClassifier:\n",
    "    pass"
   ]
  },
  {
   "cell_type": "markdown",
   "metadata": {
    "id": "g66ZUCx6uc61"
   },
   "source": [
    "## Эксперименты\n",
    "\n",
    "Протестируем реализованный нами `KNNClassifier` и его стандартную реализацию из scikit-learn `sklearn.neighbors.KNeighborsClassifier` на датасетах [WDBC](https://www.kaggle.com/datasets/mohaiminul101/wisconsin-diagnostic-breast-cancer-wdbc) и [Mushrooms](https://www.kaggle.com/datasets/uciml/mushroom-classification)."
   ]
  },
  {
   "cell_type": "code",
   "execution_count": 3,
   "metadata": {},
   "outputs": [],
   "source": [
    "with open(\"../config.yaml\", \"r\") as f:\n",
    "    cfg = yaml.safe_load(f)"
   ]
  },
  {
   "cell_type": "markdown",
   "metadata": {},
   "source": [
    "#### Подготовка WDBC"
   ]
  },
  {
   "cell_type": "code",
   "execution_count": 4,
   "metadata": {
    "executionInfo": {
     "elapsed": 177,
     "status": "ok",
     "timestamp": 1680817825094,
     "user": {
      "displayName": "Анастасия Никольская",
      "userId": "05163973069761496365"
     },
     "user_tz": -180
    },
    "id": "5E0hcqBYW-qU"
   },
   "outputs": [],
   "source": [
    "df_wdbc = pd.read_csv(cfg[\"classification\"][\"wdbc\"])\n",
    "target_col_wdbc = \"diagnosis\"\n",
    "\n",
    "df_wdbc = df_wdbc.drop([\"id\", \"Unnamed: 32\"], axis=1)\n",
    "df_wdbc[target_col_wdbc] = df_wdbc[target_col_wdbc].replace({\"B\": 0, \"M\": 1})\n",
    "feature_cols_wdbc = list(df_wdbc.columns)\n",
    "feature_cols_wdbc.remove(target_col_wdbc)\n",
    "\n",
    "y_wdbc = df_wdbc[[target_col_wdbc]]\n",
    "df_wdbc = df_wdbc[feature_cols_wdbc]\n",
    "\n",
    "df_wdbc_train, df_wdbc_test, y_wdbc_train, y_wdbc_test = train_test_split(\n",
    "    df_wdbc, y_wdbc, test_size=TEST_SPLIT, random_state=SEED\n",
    ")"
   ]
  },
  {
   "cell_type": "markdown",
   "metadata": {},
   "source": [
    "#### Подготовка Mushrooms"
   ]
  },
  {
   "cell_type": "code",
   "execution_count": 5,
   "metadata": {},
   "outputs": [],
   "source": [
    "df_mushrooms = pd.read_csv(cfg[\"classification\"][\"mushrooms\"])\n",
    "target_col_mushrooms = \"class\"\n",
    "\n",
    "feature_cols_mushrooms = list(df_mushrooms.columns)\n",
    "feature_cols_mushrooms.remove(target_col_mushrooms)\n",
    "\n",
    "y_mushrooms = df_mushrooms[[target_col_mushrooms]]\n",
    "df_mushrooms = df_mushrooms[feature_cols_mushrooms]\n",
    "\n",
    "(\n",
    "    df_mushrooms_train,\n",
    "    df_mushrooms_test,\n",
    "    y_mushrooms_train,\n",
    "    y_mushrooms_test,\n",
    ") = train_test_split(df_mushrooms, y_mushrooms, test_size=TEST_SPLIT, random_state=SEED)\n",
    "\n",
    "count_encoder = ce.CountEncoder()\n",
    "df_mushrooms_train = count_encoder.fit_transform(df_mushrooms_train)\n",
    "df_mushrooms_test = count_encoder.transform(df_mushrooms_test)\n",
    "\n",
    "label_encoder = LabelEncoder()\n",
    "with warnings.catch_warnings():\n",
    "    warnings.simplefilter(\"ignore\")\n",
    "    y_mushrooms_train = label_encoder.fit_transform(y_mushrooms_train.values)\n",
    "    y_mushrooms_test = label_encoder.fit_transform(y_mushrooms_test.values)"
   ]
  },
  {
   "cell_type": "markdown",
   "metadata": {},
   "source": [
    "#### Визуализация границ разделения классификаторов"
   ]
  },
  {
   "cell_type": "code",
   "execution_count": 6,
   "metadata": {
    "id": "8prCpgbhh-QT"
   },
   "outputs": [],
   "source": [
    "# TODO"
   ]
  }
 ],
 "metadata": {
  "colab": {
   "provenance": []
  },
  "kernelspec": {
   "display_name": "Python 3 (ipykernel)",
   "language": "python",
   "name": "python3"
  },
  "language_info": {
   "codemirror_mode": {
    "name": "ipython",
    "version": 3
   },
   "file_extension": ".py",
   "mimetype": "text/x-python",
   "name": "python",
   "nbconvert_exporter": "python",
   "pygments_lexer": "ipython3",
   "version": "3.10.7"
  }
 },
 "nbformat": 4,
 "nbformat_minor": 1
}
