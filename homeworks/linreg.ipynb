{
 "cells": [
  {
   "cell_type": "markdown",
   "metadata": {},
   "source": [
    "# Линейная регрессия"
   ]
  },
  {
   "cell_type": "markdown",
   "metadata": {},
   "source": [
    "Загружаем конфигурацию из config.yaml."
   ]
  },
  {
   "cell_type": "code",
   "execution_count": 2,
   "metadata": {},
   "outputs": [],
   "source": [
    "import yaml\n",
    "\n",
    "with open(\"../config.yaml\", \"r\") as f:\n",
    "    cfg = yaml.safe_load(f)"
   ]
  },
  {
   "cell_type": "markdown",
   "metadata": {},
   "source": [
    "Имортируем нужные библиотеки."
   ]
  },
  {
   "cell_type": "code",
   "execution_count": 3,
   "metadata": {},
   "outputs": [],
   "source": [
    "import pandas as pd\n",
    "import numpy as np\n",
    "from sklearn.model_selection import train_test_split\n",
    "from sklearn.linear_model import LinearRegression\n",
    "from sklearn.metrics import mean_squared_error\n",
    "from sklearn.preprocessing import StandardScaler, OneHotEncoder\n",
    "from sklearn.compose import ColumnTransformer\n",
    "from sklearn.pipeline import Pipeline\n",
    "from sklearn.impute import SimpleImputer\n",
    "from sklearn.feature_selection import SelectFromModel\n",
    "from sklearn.linear_model import LassoCV"
   ]
  },
  {
   "cell_type": "markdown",
   "metadata": {},
   "source": [
    "Загружаем тренировочные и тестовые данные по пути, указанному в конфиге."
   ]
  },
  {
   "cell_type": "code",
   "execution_count": 4,
   "metadata": {},
   "outputs": [],
   "source": [
    "train_df = pd.read_csv(cfg[\"house_prices_linear_regression_hw\"][\"train_dataset\"])\n",
    "test_df = pd.read_csv(cfg[\"house_prices_linear_regression_hw\"][\"test_dataset\"])"
   ]
  },
  {
   "cell_type": "markdown",
   "metadata": {},
   "source": [
    "### Первая модель\n",
    "\n",
    "Числовые признаки: импутация медианой и стандартизация.\n",
    "\n",
    "Категориальные признаки: импутация наиболее частым значением и one-hot encoding.\n",
    "\n",
    "Результат: RMSE = 34012.51."
   ]
  },
  {
   "cell_type": "code",
   "execution_count": null,
   "metadata": {},
   "outputs": [
    {
     "name": "stdout",
     "output_type": "stream",
     "text": [
      "Validation RMSE: 34012.51\n"
     ]
    }
   ],
   "source": [
    "X = train_df.drop(columns=[\"Id\", \"SalePrice\"])\n",
    "y = train_df[\"SalePrice\"]\n",
    "\n",
    "X_train, X_val, y_train, y_val = train_test_split(X, y, test_size=0.2, random_state=42) \n",
    "\n",
    "num_features = X.select_dtypes(include=[\"int64\", \"float64\"]).columns\n",
    "cat_features = X.select_dtypes(include=[\"object\"]).columns\n",
    "\n",
    "num_transformer = Pipeline([\n",
    "    (\"imputer\", SimpleImputer(strategy=\"median\")),\n",
    "    (\"scaler\", StandardScaler())\n",
    "])\n",
    "\n",
    "cat_transformer = Pipeline([\n",
    "    (\"imputer\", SimpleImputer(strategy=\"most_frequent\")),\n",
    "    (\"encoder\", OneHotEncoder(handle_unknown=\"ignore\"))\n",
    "])\n",
    "\n",
    "preprocessor = ColumnTransformer([\n",
    "    (\"num\", num_transformer, num_features),\n",
    "    (\"cat\", cat_transformer, cat_features)\n",
    "])\n",
    "\n",
    "model = Pipeline([\n",
    "    (\"preprocessor\", preprocessor),\n",
    "    (\"regressor\", LinearRegression())\n",
    "])\n",
    "\n",
    "# Метрика качества\n",
    "model.fit(X_train, y_train)\n",
    "val_pred = model.predict(X_val)\n",
    "val_rmse = np.sqrt(mean_squared_error(y_val, val_pred))\n",
    "print(f'Validation RMSE: {val_rmse:.2f}')\n",
    "\n",
    "model.fit(X, y)\n",
    "test_pred = model.predict(test_df)\n",
    "\n",
    "# Сохранение в csv\n",
    "submission = pd.DataFrame({\"Id\": test_df[\"Id\"], \"SalePrice\": test_pred})\n",
    "submission.to_csv(cfg[\"house_prices_linear_regression_hw\"][\"results\"], index=False)\n"
   ]
  },
  {
   "cell_type": "markdown",
   "metadata": {},
   "source": [
    "### Вторая модель\n",
    "Замена пропусков на \"None\" вместо наиболее частого значения.\n",
    "\n",
    "Результат: RMSE = 33823.63."
   ]
  },
  {
   "cell_type": "code",
   "execution_count": 47,
   "metadata": {},
   "outputs": [
    {
     "name": "stdout",
     "output_type": "stream",
     "text": [
      "Validation RMSE: 33823.63\n"
     ]
    }
   ],
   "source": [
    "X = train_df.drop(columns=[\"Id\", \"SalePrice\"])\n",
    "y = train_df[\"SalePrice\"]\n",
    "\n",
    "X_train, X_val, y_train, y_val = train_test_split(X, y, test_size=0.2, random_state=42) \n",
    "\n",
    "num_features = X.select_dtypes(include=[\"int64\", \"float64\"]).columns\n",
    "cat_features = X.select_dtypes(include=[\"object\"]).columns\n",
    "\n",
    "num_transformer = Pipeline([\n",
    "    (\"imputer\", SimpleImputer(strategy=\"median\")),\n",
    "    (\"scaler\", StandardScaler())\n",
    "])\n",
    "\n",
    "cat_transformer = Pipeline([\n",
    "    (\"imputer\", SimpleImputer(strategy=\"constant\", fill_value=\"None\")),\n",
    "    (\"encoder\", OneHotEncoder(handle_unknown=\"ignore\"))\n",
    "])\n",
    "\n",
    "preprocessor = ColumnTransformer([\n",
    "    (\"num\", num_transformer, num_features),\n",
    "    (\"cat\", cat_transformer, cat_features)\n",
    "])\n",
    "\n",
    "model = Pipeline([\n",
    "    (\"preprocessor\", preprocessor),\n",
    "    (\"regressor\", LinearRegression())\n",
    "])\n",
    "\n",
    "# Метрика качества\n",
    "model.fit(X_train, y_train)\n",
    "val_pred = model.predict(X_val)\n",
    "val_rmse = np.sqrt(mean_squared_error(y_val, val_pred))\n",
    "print(f'Validation RMSE: {val_rmse:.2f}')\n",
    "\n",
    "model.fit(X, y)\n",
    "test_pred = model.predict(test_df)\n",
    "\n",
    "# Сохранение в csv \n",
    "submission = pd.DataFrame({\"Id\": test_df[\"Id\"], \"SalePrice\": test_pred})\n",
    "submission.to_csv(cfg[\"house_prices_linear_regression_hw\"][\"results\"], index=False)\n"
   ]
  },
  {
   "cell_type": "markdown",
   "metadata": {},
   "source": [
    "### Финальная модель\n",
    "\n",
    "Используем L1-регуляризацию (Lasso) для выбора наиболее важных признаков.\n",
    "\n",
    "Результат: RMSE = 33135.74."
   ]
  },
  {
   "cell_type": "code",
   "execution_count": 48,
   "metadata": {},
   "outputs": [
    {
     "name": "stdout",
     "output_type": "stream",
     "text": [
      "Validation RMSE: 33135.74\n"
     ]
    }
   ],
   "source": [
    "X = train_df.drop(columns=[\"Id\", \"SalePrice\"])\n",
    "y = train_df[\"SalePrice\"]\n",
    "\n",
    "X_train, X_val, y_train, y_val = train_test_split(X, y, test_size=0.2, random_state=42) \n",
    "\n",
    "num_features = X.select_dtypes(include=[\"int64\", \"float64\"]).columns\n",
    "cat_features = X.select_dtypes(include=[\"object\"]).columns\n",
    "\n",
    "num_transformer = Pipeline([\n",
    "    (\"imputer\", SimpleImputer(strategy=\"median\")),\n",
    "    (\"scaler\", StandardScaler())\n",
    "])\n",
    "\n",
    "cat_transformer = Pipeline([\n",
    "    (\"imputer\", SimpleImputer(strategy=\"constant\", fill_value=\"None\")),\n",
    "    (\"encoder\", OneHotEncoder(handle_unknown=\"ignore\"))\n",
    "])\n",
    "\n",
    "preprocessor = ColumnTransformer([\n",
    "    (\"num\", num_transformer, num_features),\n",
    "    (\"cat\", cat_transformer, cat_features)\n",
    "])\n",
    "\n",
    "model = Pipeline([\n",
    "    ('preprocessor', preprocessor),\n",
    "    ('feature_selector', SelectFromModel(LassoCV(cv=5, random_state=42))),\n",
    "    ('regressor', LinearRegression())\n",
    "])\n",
    "\n",
    "# Метрика качества\n",
    "model.fit(X_train, y_train)\n",
    "val_pred = model.predict(X_val)\n",
    "val_rmse = np.sqrt(mean_squared_error(y_val, val_pred))\n",
    "print(f'Validation RMSE: {val_rmse:.2f}')\n",
    "\n",
    "model.fit(X, y)\n",
    "test_pred = model.predict(test_df)\n",
    "\n",
    "# Сохранение в csv \n",
    "submission = pd.DataFrame({\"Id\": test_df[\"Id\"], \"SalePrice\": test_pred})\n",
    "submission.to_csv(cfg[\"house_prices_linear_regression_hw\"][\"results\"], index=False)\n"
   ]
  },
  {
   "cell_type": "markdown",
   "metadata": {},
   "source": [
    "### Пост-финальная модель\n",
    "\n",
    "Логарифмирование целевой переменной (np.log1p) и обратное преобразование предсказаний (np.expm1).\n",
    "\n",
    "Результат: RMSE = 22071.63."
   ]
  },
  {
   "cell_type": "code",
   "execution_count": null,
   "metadata": {},
   "outputs": [
    {
     "name": "stdout",
     "output_type": "stream",
     "text": [
      "Validation RMSE: 22071.63\n"
     ]
    }
   ],
   "source": [
    "X = train_df.drop(columns=[\"Id\", \"SalePrice\"])\n",
    "y = np.log1p(train_df[\"SalePrice\"])\n",
    "\n",
    "X_train, X_val, y_train, y_val = train_test_split(X, y, test_size=0.2, random_state=42) \n",
    "\n",
    "num_features = X.select_dtypes(include=[\"int64\", \"float64\"]).columns\n",
    "cat_features = X.select_dtypes(include=[\"object\"]).columns\n",
    "\n",
    "num_transformer = Pipeline([\n",
    "    (\"imputer\", SimpleImputer(strategy=\"median\", keep_empty_features=True)),\n",
    "    (\"scaler\", StandardScaler())\n",
    "])\n",
    "\n",
    "cat_transformer = Pipeline([\n",
    "    (\"imputer\", SimpleImputer(strategy=\"constant\", fill_value=\"None\", keep_empty_features=True)),\n",
    "    ('encoder', OneHotEncoder(handle_unknown='ignore', sparse_output=False))\n",
    "])\n",
    "\n",
    "preprocessor = ColumnTransformer([\n",
    "    (\"num\", num_transformer, num_features),\n",
    "    (\"cat\", cat_transformer, cat_features)\n",
    "])\n",
    "\n",
    "model = Pipeline([\n",
    "    ('preprocessor', preprocessor),\n",
    "    ('feature_selector', SelectFromModel(LassoCV(cv=5, random_state=42))),\n",
    "    ('regressor', LinearRegression())\n",
    "])\n",
    "\n",
    "# Метрика качества\n",
    "model.fit(X_train, y_train)\n",
    "val_pred = np.expm1(model.predict(X_val))\n",
    "val_rmse = np.sqrt(mean_squared_error(np.expm1(y_val), val_pred))\n",
    "print(f'Validation RMSE: {val_rmse:.2f}')\n",
    "\n",
    "model.fit(X, y)\n",
    "test_pred = np.expm1(model.predict(test_df.drop(columns=[\"Id\"]))) \n",
    "\n",
    "# Сохранение в csv\n",
    "submission = pd.DataFrame({\"Id\": test_df[\"Id\"], \"SalePrice\": test_pred})\n",
    "submission.to_csv(cfg[\"house_prices_linear_regression_hw\"][\"results\"], index=False)\n"
   ]
  },
  {
   "cell_type": "markdown",
   "metadata": {},
   "source": [
    "Гистограммы распределения SalePrice до и после логарифмирования:"
   ]
  },
  {
   "cell_type": "code",
   "execution_count": 8,
   "metadata": {},
   "outputs": [
    {
     "data": {
      "image/png": "[encoded data removed]",
      "text/plain": [
       "<Figure size 1200x500 with 2 Axes>"
      ]
     },
     "metadata": {},
     "output_type": "display_data"
    }
   ],
   "source": [
    "import matplotlib.pyplot as plt\n",
    "\n",
    "plt.figure(figsize=(12, 5))\n",
    "plt.subplot(1, 2, 1)\n",
    "plt.hist(train_df[\"SalePrice\"], bins=50, color=\"blue\", edgecolor='black')\n",
    "plt.title(\"Оригинальное распределение\")\n",
    "\n",
    "plt.subplot(1, 2, 2)\n",
    "plt.hist(np.log1p(train_df[\"SalePrice\"]), bins=50, color=\"green\", edgecolor='black')\n",
    "plt.title(\"Распределение после логарифмирования\")\n",
    "plt.show()\n"
   ]
  }
 ],
 "metadata": {
  "kernelspec": {
   "display_name": "Python 3",
   "language": "python",
   "name": "python3"
  },
  "language_info": {
   "codemirror_mode": {
    "name": "ipython",
    "version": 3
   },
   "file_extension": ".py",
   "mimetype": "text/x-python",
   "name": "python",
   "nbconvert_exporter": "python",
   "pygments_lexer": "ipython3",
   "version": "3.13.0"
  }
 },
 "nbformat": 4,
 "nbformat_minor": 2
}
